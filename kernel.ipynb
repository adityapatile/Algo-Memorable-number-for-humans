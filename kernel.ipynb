{
  "cells": [
    {
      "metadata": {
        "_uuid": "0c693511b18d64001d9d220b13684fc1510168c5",
        "_cell_guid": "4bfb22c7-ec2b-43e8-9d09-7e06dfa5ae96"
      },
      "cell_type": "markdown",
      "source": "# Objective : To Identify the most memorable number for a Human of a given list"
    },
    {
      "metadata": {
        "_uuid": "e118a3f7d146f494fae555749556744d79584f51",
        "_cell_guid": "9bed820a-7c8c-4dfa-ad50-494dc5df5036"
      },
      "cell_type": "markdown",
      "source": "If you have ever bought a SIM. The company offers you plenty of mobile numbers to pick from. Its very difficult to identify memorable number\n\nInorder to solve this I have designed a simple algo to identify the most memorable number of a given a list. "
    },
    {
      "metadata": {
        "_uuid": "41bb6d1a5d5eeb202da52ffd6529e4619fa3121e",
        "_cell_guid": "932a88ad-c48b-4cf0-85fd-930a31866100"
      },
      "cell_type": "markdown",
      "source": "Approach : Any mobile number (example -  '9987823233' ) has repeating patterns such as 99 , 2323 , 33 . These patterns help in recollecting and makes it easy to memorize. Every repeating pattern will have 2 characteristics : Variety & Length\n\n99 >> Variety = 1 , Length = 2 ;\n2323 >> Variety = 2 , length = 4\n\nWe can create a score card based on these 2 parameters and find the best score for such a number. "
    },
    {
      "metadata": {
        "_uuid": "085d65ee8978c6a900112796fc8c4be7c71fc3d6",
        "_cell_guid": "d3f6de0b-4480-4036-a3fa-19427ec5a309"
      },
      "cell_type": "markdown",
      "source": "Steps\n1. Use Regex to Identify Patterns\n2. Create a Function for returning Matched patterns\n3. Create Score card function\n4. Make an Iterator function to throw up the best Number"
    },
    {
      "metadata": {
        "_uuid": "334c4076c5ea65258289dd298aa9ef778b0cd95a",
        "_cell_guid": "bf5d7799-2df7-4436-8793-96f5a24f7e35"
      },
      "cell_type": "markdown",
      "source": "### STEP 1 :  Use Regex to Identify Patterns"
    },
    {
      "metadata": {
        "scrolled": true,
        "_uuid": "5c5ce02d486b78f10280b55e18592cf318a9703c",
        "_cell_guid": "70b6cc93-93af-4db6-85c7-e372fd5523c7",
        "trusted": false
      },
      "cell_type": "code",
      "source": "import re\nfrom re import *\nimport pandas as pd\n\nt = '2221143432453465654'\nreg = r'(\\d+)\\1+'\n#This regex identifies patterns such as 222, 4343,6565. \nre.match(reg,t)",
      "execution_count": null,
      "outputs": []
    },
    {
      "metadata": {
        "_uuid": "d7c2a87b631f02b5f739d36d3ef0316665c8ef07",
        "_cell_guid": "5e323f48-3036-427b-9f77-5ce80261f7d8"
      },
      "cell_type": "markdown",
      "source": "Here Re.Match will only give one output. We need to get  multiple matches for any number"
    },
    {
      "metadata": {
        "_uuid": "da9ad81d4b9eb3d0624a98d2dbec52b4562ef71a",
        "_cell_guid": "f5158b01-43ae-4595-8f7f-dc505bac19e8"
      },
      "cell_type": "markdown",
      "source": "### STEP 2 : Create a Function for returning Matched patterns"
    },
    {
      "metadata": {
        "collapsed": true,
        "_uuid": "a1a38152318322912c9fbbeb4d05891ce0863513",
        "_cell_guid": "e544a365-eb64-47a6-924f-1e0811c47c92",
        "trusted": false
      },
      "cell_type": "code",
      "source": "def matching_num(num):\n    import re\n    regex = r\"(\\d+)\\1+\"\n    test_str = num\n    matches = re.finditer(regex, test_str)\n    l = []\n    for matchNum, match in enumerate(matches):\n        l.append(match.group())\n    return l",
      "execution_count": null,
      "outputs": []
    },
    {
      "metadata": {
        "_uuid": "60c850800680a517fe27a92679e8bfe01e6340a7",
        "_cell_guid": "a16829b3-57fc-4a6e-9f3a-c09083dbd209"
      },
      "cell_type": "markdown",
      "source": "Learn > Enumerate Object - Not very intuitive for me. This piece of code will however do the trick. Lets Test Now"
    },
    {
      "metadata": {
        "collapsed": true,
        "_uuid": "4fd578a4b666699cc00bd61808ee641e6f83def5",
        "_cell_guid": "fd16d8c0-ccb8-4204-8797-9a969fb5dac2",
        "trusted": false
      },
      "cell_type": "code",
      "source": "a= '8888777123'\nb ='8830121233'\nc='9823321518'",
      "execution_count": null,
      "outputs": []
    },
    {
      "metadata": {
        "scrolled": true,
        "_uuid": "58554af460438e3e22f86cc627f90943c08ed678",
        "_cell_guid": "dc46fa34-69f3-4d9e-9564-df048c96312f",
        "trusted": false
      },
      "cell_type": "code",
      "source": "print(matching_num(a))\nprint(matching_num(b))\nprint(matching_num(c))",
      "execution_count": null,
      "outputs": []
    },
    {
      "metadata": {
        "_uuid": "93eac7eab06b3c75059dec13b469c7427127ef5e",
        "_cell_guid": "6f3c5c90-d376-4c62-a91e-3d3f33dfd5a2"
      },
      "cell_type": "markdown",
      "source": "### STEP 3 : Create Score card function"
    },
    {
      "metadata": {
        "_kg_hide-output": true,
        "_uuid": "f9cccb6e26cd732838dbf830612052059fececb3",
        "_cell_guid": "72406459-e0c2-4ac3-9ba2-096a37e0ceca",
        "_kg_hide-input": false,
        "trusted": false
      },
      "cell_type": "code",
      "source": "add = '../input/master_mob_score.csv'\nmst= pd.read_csv(add,index_col=0)   \nprint (mst)",
      "execution_count": null,
      "outputs": []
    },
    {
      "metadata": {
        "_uuid": "abc2a5a37ed9106cf54d90d320bf023013bc8bec",
        "_cell_guid": "c0d38872-dceb-4d7b-8333-8989577f09cd"
      },
      "cell_type": "markdown",
      "source": "Here the first column titled as div ~ Variety & Column are length of the Match\nExample 9999999999 will get a perfect score of 100 where as 1122233898 will get a score of 10 + 21.25 + 10 = 41.25 "
    },
    {
      "metadata": {
        "collapsed": true,
        "_uuid": "68e76c8170e8f7b15074481afe7ec9e867454fb0",
        "_cell_guid": "f59a7a7a-83e2-4c7c-a3ef-f32127a2f32d",
        "trusted": false
      },
      "cell_type": "code",
      "source": "def m_score(j):\n    # M_score takes a list and calculates the final score for the number\n    # setting up the master for score calculation\n    add = '../input/master_mob_score.csv'\n    mst= pd.read_csv(add,index_col=0)   \n    b=[]\n    score = 0   \n    #Setting up for loop for calculating scores\n    for i in j:\n        # X parameter here is Variety -- A number\n        # Y Parameter is length of repeat -- A string\n        variety =len(set(i))\n        length = str(len(i))\n        sc = mst.loc[variety,length]\n        b.append(sc)\n        score = score + sc\n    return score",
      "execution_count": null,
      "outputs": []
    },
    {
      "metadata": {
        "_uuid": "4154b1d381986f1bc91c65d31106294077c3b510",
        "_cell_guid": "b8ad5462-1359-409c-a67b-3659dfc3adec",
        "trusted": false
      },
      "cell_type": "code",
      "source": "print(matching_num(a))\nprint (m_score(matching_num(a)))\nprint (\"----------------\")\nprint(matching_num(b))\nprint (m_score(matching_num(b)))\nprint (\"----------------\")\nprint(matching_num(c))\nprint (m_score(matching_num(c)))",
      "execution_count": null,
      "outputs": []
    },
    {
      "metadata": {
        "_uuid": "937668bf8a2a41c9eb71e228bab39c5e6422d668",
        "_cell_guid": "be48a418-3bf6-460b-a528-f3885ecf4c1e"
      },
      "cell_type": "markdown",
      "source": "You can calculate from this example the best number to remember is actually the 1st one"
    },
    {
      "metadata": {
        "_uuid": "961bbc774cf21edfc7688b5a8b970c7a7aadaeb5",
        "_cell_guid": "912362af-9180-42de-958b-1d6f0a4ae910"
      },
      "cell_type": "markdown",
      "source": "### STEP 4 : Make an Iterator function to throw up the best Number"
    },
    {
      "metadata": {
        "collapsed": true,
        "_uuid": "e8d4cfbe4a409f2c1d67f35f4d1b89ad486f4bd0",
        "_cell_guid": "5188485d-b1b7-4e1d-b6d1-df3fb08285c5",
        "trusted": false
      },
      "cell_type": "code",
      "source": "def final_score(k) :\n    # I am too lazy to call a function in a function\n    return m_score(matching_num(k))\n\ndef best (j):\n    #takes in a list and throws \"number\" & \"score\"\n    k = []\n    maxscore=0\n    for i in j:\n        k.append(final_score(i))\n        if final_score(i) > maxscore :\n            # this block is invoked when it finds the new KING in the list\n            maxscore = final_score(i)\n            num = i\n    return num,maxscore",
      "execution_count": null,
      "outputs": []
    },
    {
      "metadata": {
        "collapsed": true,
        "_uuid": "49b443902511dee64bd83f2d833cc6dfb66010a1",
        "_cell_guid": "ddc03e04-b787-4311-a2f7-e2d7b903582e",
        "trusted": false
      },
      "cell_type": "code",
      "source": "w = [a,b,c]\nprint(best(w))",
      "execution_count": null,
      "outputs": []
    },
    {
      "metadata": {
        "collapsed": true,
        "_uuid": "5bcbdf6c7c6fcb179bafa2e1cf44e1e339611d17",
        "_cell_guid": "c39b29d9-8633-4a37-a74f-5c7fe36ad1ef"
      },
      "cell_type": "markdown",
      "source": "## THE END"
    }
  ],
  "metadata": {
    "language_info": {
      "version": "3.6.4",
      "codemirror_mode": {
        "name": "ipython",
        "version": 3
      },
      "pygments_lexer": "ipython3",
      "name": "python",
      "mimetype": "text/x-python",
      "nbconvert_exporter": "python",
      "file_extension": ".py"
    },
    "kernelspec": {
      "display_name": "Python 3",
      "language": "python",
      "name": "python3"
    }
  },
  "nbformat": 4,
  "nbformat_minor": 1
}